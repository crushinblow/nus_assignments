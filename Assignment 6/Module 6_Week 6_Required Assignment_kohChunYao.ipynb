{
  "nbformat": 4,
  "nbformat_minor": 0,
  "metadata": {
    "colab": {
      "provenance": []
    },
    "kernelspec": {
      "name": "python3",
      "display_name": "Python 3"
    },
    "language_info": {
      "name": "python"
    }
  },
  "cells": [
    {
      "cell_type": "code",
      "execution_count": 1,
      "metadata": {
        "colab": {
          "base_uri": "https://localhost:8080/"
        },
        "id": "Qhc-UdV_JF0g",
        "outputId": "24cf2351-d720-4b56-d1d0-a0de6367a1cc"
      },
      "outputs": [
        {
          "output_type": "stream",
          "name": "stdout",
          "text": [
            "Hello, Peter!\n",
            "In 15 years, you will be 45 years old.\n",
            "Your height is 1.72 meters.\n",
            "Enter a number: 5\n",
            "The number is positive.\n",
            "Enter an integer: 8\n",
            "Even numbers from 1 to 8:\n",
            "2\n",
            "4\n",
            "6\n",
            "8\n",
            "Enter length of the rectangle in metres: 10\n",
            "Enter width of the rectangle in metres: 10\n",
            "The area of the rectangle is 100.00 sqm.\n"
          ]
        }
      ],
      "source": [
        "# Assignment 6 - Python\n",
        "# Variables\n",
        "# a) Declare variables for user's name, age, and height.\n",
        "# Don't need to explicitly declare variable types - the interpreter automatically determines the type based on the value assign.\n",
        "name = \"Peter\"       # String variable for name\n",
        "age = 30             # Integer variable for age\n",
        "height_cm = 172      # Integer variable for height in centimeters\n",
        "\n",
        "# b) Print a greeting message using the name\n",
        "print(f\"Hello, {name}!\")  # f-string for formatted output - embed expressions using { }, expressions are evaluated at runtime and auto show results\n",
        "\n",
        "# c) Calculate age 15 years from now\n",
        "future_age = age + 15\n",
        "print(f\"In 15 years, you will be {future_age} years old.\")\n",
        "\n",
        "# d) Convert height from cm to meters and display\n",
        "height_m = height_cm / 100  # 1 meter = 100 cm\n",
        "print(f\"Your height is {height_m:.2f} meters.\")  # :.2f rounds to 2 decimal places\n",
        "\n",
        "# Conditional Statement\n",
        "# a) Prompt user to enter a number\n",
        "num = float(input(\"Enter a number: \"))  # float() handles decimals\n",
        "\n",
        "# b) Check if number is positive, negative, or zero\n",
        "if num > 0:\n",
        "    print(\"The number is positive.\")\n",
        "elif num < 0:\n",
        "    print(\"The number is negative.\")\n",
        "else:\n",
        "    print(\"The number is zero.\")\n",
        "\n",
        "#Loops and Iteration\n",
        "# a) Prompt user to input an integer n\n",
        "n = int(input(\"Enter an integer: \"))\n",
        "\n",
        "# b) Print even numbers from 1 to n using a for loop\n",
        "print(f\"Even numbers from 1 to {n}:\")\n",
        "for i in range(2, n+1, 2):  # Start at 2, step by 2 to get even numbers\n",
        "    print(i)\n",
        "\n",
        "\n",
        "#Functions\n",
        "# a) Define a function to calculate rectangle area\n",
        "def calculate_area(length, width):\n",
        "    return length * width\n",
        "\n",
        "# b) Prompt user for length and width\n",
        "length = float(input(\"Enter length of the rectangle in metres: \"))\n",
        "width = float(input(\"Enter width of the rectangle in metres: \"))\n",
        "\n",
        "# c) Call the function and display the result\n",
        "area = calculate_area(length, width)\n",
        "print(f\"The area of the rectangle is {area:.2f} sqm.\")\n"
      ]
    }
  ]
}